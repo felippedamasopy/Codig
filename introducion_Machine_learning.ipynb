{
  "nbformat": 4,
  "nbformat_minor": 0,
  "metadata": {
    "colab": {
      "name": "introducion Machine learning",
      "provenance": [],
      "toc_visible": true,
      "authorship_tag": "ABX9TyPYIobLhTLRenrUuWrpYNlP",
      "include_colab_link": true
    },
    "kernelspec": {
      "name": "python3",
      "display_name": "Python 3"
    }
  },
  "cells": [
    {
      "cell_type": "markdown",
      "metadata": {
        "id": "view-in-github",
        "colab_type": "text"
      },
      "source": [
        "<a href=\"https://colab.research.google.com/github/felippedamasopy/Study/blob/main/introducion_Machine_learning.ipynb\" target=\"_parent\"><img src=\"https://colab.research.google.com/assets/colab-badge.svg\" alt=\"Open In Colab\"/></a>"
      ]
    },
    {
      "cell_type": "code",
      "metadata": {
        "id": "nOqRdBApFdDI"
      },
      "source": [
        "import pandas as pd"
      ],
      "execution_count": 2,
      "outputs": []
    },
    {
      "cell_type": "markdown",
      "metadata": {
        "id": "AlHAbf-5Lxie"
      },
      "source": [
        "Seu conjunto de dados tinha muitas variáveis para resolver, ou até mesmo para imprimir bem. Como você pode reduzir essa quantidade esmagadora de dados a algo que você possa entender?\n",
        "\n",
        "Começaremos escolhendo algumas variáveis usando nossa intuição. Os cursos posteriores mostrarão técnicas estatísticas para priorizar variáveis automaticamente.\n",
        "\n",
        "Para escolher variáveis / colunas, precisaremos ver uma lista de todas as colunas no conjunto de dados. Isso é feito com a propriedade de colunas do DataFrame (a linha inferior do código abaixo)."
      ]
    },
    {
      "cell_type": "code",
      "metadata": {
        "id": "zYF-_k23FrNF"
      },
      "source": [
        "melbourne_data = pd.read_csv('/content/melb_data.csv')"
      ],
      "execution_count": 3,
      "outputs": []
    },
    {
      "cell_type": "code",
      "metadata": {
        "id": "c7KcpPg_FysS"
      },
      "source": [
        "melbourne_data.describe()"
      ],
      "execution_count": null,
      "outputs": []
    },
    {
      "cell_type": "markdown",
      "metadata": {
        "id": "KjP8gBA0EQlH"
      },
      "source": [
        ""
      ]
    },
    {
      "cell_type": "code",
      "metadata": {
        "id": "pwUlRc7zIbTf",
        "outputId": "8eb888ce-d3a9-4097-c89f-dc93b7aa9fde",
        "colab": {
          "base_uri": "https://localhost:8080/",
          "height": 102
        }
      },
      "source": [
        "melbourne_data.columns"
      ],
      "execution_count": null,
      "outputs": [
        {
          "output_type": "execute_result",
          "data": {
            "text/plain": [
              "Index(['Suburb', 'Address', 'Rooms', 'Type', 'Price', 'Method', 'SellerG',\n",
              "       'Date', 'Distance', 'Postcode', 'Bedroom2', 'Bathroom', 'Car',\n",
              "       'Landsize', 'BuildingArea', 'YearBuilt', 'CouncilArea', 'Lattitude',\n",
              "       'Longtitude', 'Regionname', 'Propertycount'],\n",
              "      dtype='object')"
            ]
          },
          "metadata": {
            "tags": []
          },
          "execution_count": 10
        }
      ]
    },
    {
      "cell_type": "markdown",
      "metadata": {
        "id": "Wf2r6NLpL6rC"
      },
      "source": [
        " Os dados de Melbourne têm alguns valores ausentes (algumas casas para as quais algumas variáveis não foram registradas).\n",
        " Aprenderemos a lidar com valores ausentes em um tutorial posterior.\n",
        " Seus dados de Iowa não têm valores ausentes nas colunas que você usa.\n",
        " Portanto, vamos pegar a opção mais simples por enquanto, e retirar as casas de nossos dados.\n",
        " Não se preocupe muito com isso agora, embora o código seja:\n",
        "\n",
        " dropna elimina os valores ausentes (pense em na como \"não disponível\")"
      ]
    },
    {
      "cell_type": "code",
      "metadata": {
        "id": "meKgyjGiIvdQ"
      },
      "source": [
        "melbourne_data = melbourne_data.dropna(axis=0)"
      ],
      "execution_count": null,
      "outputs": []
    },
    {
      "cell_type": "markdown",
      "metadata": {
        "id": "H5pQpclcMHX2"
      },
      "source": [
        "Existem muitas maneiras de selecionar um subconjunto de seus dados. O Micro-Curso Pandas cobre isso com mais profundidade, mas vamos nos concentrar em duas abordagens por enquanto.\n",
        "\n",
        "Notação de pontos, que usamos para selecionar o \"alvo de previsão\"\n",
        "Selecionando com uma lista de colunas, que usamos para selecionar os \"recursos\"\n",
        "Selecionando o alvo de previsão\n",
        "Você pode puxar uma variável com notação de ponto. Esta única coluna é armazenada em uma série, que é amplamente como um DataFrame com apenas uma única coluna de dados.\n",
        "\n",
        "Usaremos a notação de ponto para selecionar a coluna que queremos prever, que é chamada de alvo de previsão. Por convenção, o alvo de previsão é chamado de y. Portanto, o código de que precisamos para salvar os preços das casas nos dados de Melbourne é"
      ]
    },
    {
      "cell_type": "code",
      "metadata": {
        "id": "aX-Uj2pQJACR"
      },
      "source": [
        "y = melbourne_data.Price"
      ],
      "execution_count": null,
      "outputs": []
    },
    {
      "cell_type": "markdown",
      "metadata": {
        "id": "AeEZYSQKMVgI"
      },
      "source": [
        "Escolhendo \"Recursos\"\n",
        "As colunas que são inseridas em nosso modelo (e posteriormente usadas para fazer previsões) são chamadas de \"recursos\". Em nosso caso, essas seriam as colunas usadas para determinar o preço da casa. Às vezes, você usará todas as colunas, exceto o destino como recursos. Outras vezes, você ficará melhor com menos recursos.\n",
        "\n",
        "Por enquanto, construiremos um modelo com apenas alguns recursos. Mais tarde, você verá como iterar e comparar modelos construídos com diferentes recursos.\n",
        "\n",
        "Selecionamos vários recursos, fornecendo uma lista de nomes de colunas entre colchetes. Cada item dessa lista deve ser uma string (com aspas).\n",
        "\n",
        "Aqui está um exemplo:"
      ]
    },
    {
      "cell_type": "code",
      "metadata": {
        "id": "NGrwiRXCJmM0"
      },
      "source": [
        "melbourne_features = ['Rooms', 'Bathroom', 'Landsize', 'Lattitude', 'Longtitude']"
      ],
      "execution_count": null,
      "outputs": []
    },
    {
      "cell_type": "markdown",
      "metadata": {
        "id": "k-rnlzvxMdRx"
      },
      "source": [
        "Por convenção, esses dados são chamados de X."
      ]
    },
    {
      "cell_type": "code",
      "metadata": {
        "id": "L8vn_bS-J0mv"
      },
      "source": [
        "x = melbourne_data[melbourne_features]"
      ],
      "execution_count": null,
      "outputs": []
    },
    {
      "cell_type": "markdown",
      "metadata": {
        "id": "5OhRvIrSMlHY"
      },
      "source": [
        "Vamos revisar rapidamente os dados que usaremos para prever os preços das casas usando o método describe e o método head, que mostra as poucas linhas superiores."
      ]
    },
    {
      "cell_type": "code",
      "metadata": {
        "id": "gO7rzoc0J-C-",
        "outputId": "bdafd6f1-f96b-40f8-dd51-6d82a70ac335",
        "colab": {
          "base_uri": "https://localhost:8080/",
          "height": 297
        }
      },
      "source": [
        "x.describe()"
      ],
      "execution_count": null,
      "outputs": [
        {
          "output_type": "execute_result",
          "data": {
            "text/html": [
              "<div>\n",
              "<style scoped>\n",
              "    .dataframe tbody tr th:only-of-type {\n",
              "        vertical-align: middle;\n",
              "    }\n",
              "\n",
              "    .dataframe tbody tr th {\n",
              "        vertical-align: top;\n",
              "    }\n",
              "\n",
              "    .dataframe thead th {\n",
              "        text-align: right;\n",
              "    }\n",
              "</style>\n",
              "<table border=\"1\" class=\"dataframe\">\n",
              "  <thead>\n",
              "    <tr style=\"text-align: right;\">\n",
              "      <th></th>\n",
              "      <th>Rooms</th>\n",
              "      <th>Bathroom</th>\n",
              "      <th>Landsize</th>\n",
              "      <th>Lattitude</th>\n",
              "      <th>Longtitude</th>\n",
              "    </tr>\n",
              "  </thead>\n",
              "  <tbody>\n",
              "    <tr>\n",
              "      <th>count</th>\n",
              "      <td>6196.000000</td>\n",
              "      <td>6196.000000</td>\n",
              "      <td>6196.000000</td>\n",
              "      <td>6196.000000</td>\n",
              "      <td>6196.000000</td>\n",
              "    </tr>\n",
              "    <tr>\n",
              "      <th>mean</th>\n",
              "      <td>2.931407</td>\n",
              "      <td>1.576340</td>\n",
              "      <td>471.006940</td>\n",
              "      <td>-37.807904</td>\n",
              "      <td>144.990201</td>\n",
              "    </tr>\n",
              "    <tr>\n",
              "      <th>std</th>\n",
              "      <td>0.971079</td>\n",
              "      <td>0.711362</td>\n",
              "      <td>897.449881</td>\n",
              "      <td>0.075850</td>\n",
              "      <td>0.099165</td>\n",
              "    </tr>\n",
              "    <tr>\n",
              "      <th>min</th>\n",
              "      <td>1.000000</td>\n",
              "      <td>1.000000</td>\n",
              "      <td>0.000000</td>\n",
              "      <td>-38.164920</td>\n",
              "      <td>144.542370</td>\n",
              "    </tr>\n",
              "    <tr>\n",
              "      <th>25%</th>\n",
              "      <td>2.000000</td>\n",
              "      <td>1.000000</td>\n",
              "      <td>152.000000</td>\n",
              "      <td>-37.855438</td>\n",
              "      <td>144.926198</td>\n",
              "    </tr>\n",
              "    <tr>\n",
              "      <th>50%</th>\n",
              "      <td>3.000000</td>\n",
              "      <td>1.000000</td>\n",
              "      <td>373.000000</td>\n",
              "      <td>-37.802250</td>\n",
              "      <td>144.995800</td>\n",
              "    </tr>\n",
              "    <tr>\n",
              "      <th>75%</th>\n",
              "      <td>4.000000</td>\n",
              "      <td>2.000000</td>\n",
              "      <td>628.000000</td>\n",
              "      <td>-37.758200</td>\n",
              "      <td>145.052700</td>\n",
              "    </tr>\n",
              "    <tr>\n",
              "      <th>max</th>\n",
              "      <td>8.000000</td>\n",
              "      <td>8.000000</td>\n",
              "      <td>37000.000000</td>\n",
              "      <td>-37.457090</td>\n",
              "      <td>145.526350</td>\n",
              "    </tr>\n",
              "  </tbody>\n",
              "</table>\n",
              "</div>"
            ],
            "text/plain": [
              "             Rooms     Bathroom      Landsize    Lattitude   Longtitude\n",
              "count  6196.000000  6196.000000   6196.000000  6196.000000  6196.000000\n",
              "mean      2.931407     1.576340    471.006940   -37.807904   144.990201\n",
              "std       0.971079     0.711362    897.449881     0.075850     0.099165\n",
              "min       1.000000     1.000000      0.000000   -38.164920   144.542370\n",
              "25%       2.000000     1.000000    152.000000   -37.855438   144.926198\n",
              "50%       3.000000     1.000000    373.000000   -37.802250   144.995800\n",
              "75%       4.000000     2.000000    628.000000   -37.758200   145.052700\n",
              "max       8.000000     8.000000  37000.000000   -37.457090   145.526350"
            ]
          },
          "metadata": {
            "tags": []
          },
          "execution_count": 19
        }
      ]
    },
    {
      "cell_type": "code",
      "metadata": {
        "id": "Gz98-1-qKPwm",
        "outputId": "0ef573c6-2e67-4dee-f141-d6d579b9447c",
        "colab": {
          "base_uri": "https://localhost:8080/",
          "height": 204
        }
      },
      "source": [
        "x.head()"
      ],
      "execution_count": null,
      "outputs": [
        {
          "output_type": "execute_result",
          "data": {
            "text/html": [
              "<div>\n",
              "<style scoped>\n",
              "    .dataframe tbody tr th:only-of-type {\n",
              "        vertical-align: middle;\n",
              "    }\n",
              "\n",
              "    .dataframe tbody tr th {\n",
              "        vertical-align: top;\n",
              "    }\n",
              "\n",
              "    .dataframe thead th {\n",
              "        text-align: right;\n",
              "    }\n",
              "</style>\n",
              "<table border=\"1\" class=\"dataframe\">\n",
              "  <thead>\n",
              "    <tr style=\"text-align: right;\">\n",
              "      <th></th>\n",
              "      <th>Rooms</th>\n",
              "      <th>Bathroom</th>\n",
              "      <th>Landsize</th>\n",
              "      <th>Lattitude</th>\n",
              "      <th>Longtitude</th>\n",
              "    </tr>\n",
              "  </thead>\n",
              "  <tbody>\n",
              "    <tr>\n",
              "      <th>1</th>\n",
              "      <td>2</td>\n",
              "      <td>1.0</td>\n",
              "      <td>156.0</td>\n",
              "      <td>-37.8079</td>\n",
              "      <td>144.9934</td>\n",
              "    </tr>\n",
              "    <tr>\n",
              "      <th>2</th>\n",
              "      <td>3</td>\n",
              "      <td>2.0</td>\n",
              "      <td>134.0</td>\n",
              "      <td>-37.8093</td>\n",
              "      <td>144.9944</td>\n",
              "    </tr>\n",
              "    <tr>\n",
              "      <th>4</th>\n",
              "      <td>4</td>\n",
              "      <td>1.0</td>\n",
              "      <td>120.0</td>\n",
              "      <td>-37.8072</td>\n",
              "      <td>144.9941</td>\n",
              "    </tr>\n",
              "    <tr>\n",
              "      <th>6</th>\n",
              "      <td>3</td>\n",
              "      <td>2.0</td>\n",
              "      <td>245.0</td>\n",
              "      <td>-37.8024</td>\n",
              "      <td>144.9993</td>\n",
              "    </tr>\n",
              "    <tr>\n",
              "      <th>7</th>\n",
              "      <td>2</td>\n",
              "      <td>1.0</td>\n",
              "      <td>256.0</td>\n",
              "      <td>-37.8060</td>\n",
              "      <td>144.9954</td>\n",
              "    </tr>\n",
              "  </tbody>\n",
              "</table>\n",
              "</div>"
            ],
            "text/plain": [
              "   Rooms  Bathroom  Landsize  Lattitude  Longtitude\n",
              "1      2       1.0     156.0   -37.8079    144.9934\n",
              "2      3       2.0     134.0   -37.8093    144.9944\n",
              "4      4       1.0     120.0   -37.8072    144.9941\n",
              "6      3       2.0     245.0   -37.8024    144.9993\n",
              "7      2       1.0     256.0   -37.8060    144.9954"
            ]
          },
          "metadata": {
            "tags": []
          },
          "execution_count": 20
        }
      ]
    },
    {
      "cell_type": "markdown",
      "metadata": {
        "id": "egur8WdsMtXC"
      },
      "source": [
        "Verificar visualmente seus dados com esses comandos é uma parte importante do trabalho de um cientista de dados. Você freqüentemente encontrará surpresas no conjunto de dados que merecem uma inspeção mais detalhada."
      ]
    },
    {
      "cell_type": "code",
      "metadata": {
        "id": "542AAlmqKTyO"
      },
      "source": [
        "from sklearn.tree import DecisionTreeRegressor"
      ],
      "execution_count": null,
      "outputs": []
    },
    {
      "cell_type": "markdown",
      "metadata": {
        "id": "0Er0l9LaMzps"
      },
      "source": [
        "Construindo Seu Modelo\n",
        "Você usará a biblioteca scikit-learn para criar seus modelos. Ao codificar, esta biblioteca é escrita como sklearn, como você verá no código de amostra. Scikit-learn é facilmente a biblioteca mais popular para modelar os tipos de dados normalmente armazenados em DataFrames.\n",
        "\n",
        "As etapas para construir e usar um modelo são:\n",
        "\n",
        "Definir: que tipo de modelo será? Uma árvore de decisão? Algum outro tipo de modelo? Alguns outros parâmetros do tipo de modelo também são especificados.\n",
        "Ajuste: captura os padrões dos dados fornecidos. Este é o cerne da modelagem.\n",
        "Prever: exatamente o que parece\n",
        "Avalie: determine o quão precisas são as previsões do modelo.\n",
        "Aqui está um exemplo de definição de um modelo de árvore de decisão com scikit-learn e ajustá-lo com os recursos e a variável de destino."
      ]
    },
    {
      "cell_type": "code",
      "metadata": {
        "id": "Q_0xI3YMK__I"
      },
      "source": [
        "melbourne_model = DecisionTreeRegressor(random_state=1)"
      ],
      "execution_count": null,
      "outputs": []
    },
    {
      "cell_type": "markdown",
      "metadata": {
        "id": "ctEHXXYEM642"
      },
      "source": [
        "Defina o modelo. Especifique um número para random_state para garantir os mesmos resultados a cada execução"
      ]
    },
    {
      "cell_type": "code",
      "metadata": {
        "id": "7nETbiuPLIou",
        "outputId": "aef0b130-d400-4b89-deb0-d7cf379ab475",
        "colab": {
          "base_uri": "https://localhost:8080/",
          "height": 119
        }
      },
      "source": [
        "melbourne_model.fit(x,y)"
      ],
      "execution_count": null,
      "outputs": [
        {
          "output_type": "execute_result",
          "data": {
            "text/plain": [
              "DecisionTreeRegressor(ccp_alpha=0.0, criterion='mse', max_depth=None,\n",
              "                      max_features=None, max_leaf_nodes=None,\n",
              "                      min_impurity_decrease=0.0, min_impurity_split=None,\n",
              "                      min_samples_leaf=1, min_samples_split=2,\n",
              "                      min_weight_fraction_leaf=0.0, presort='deprecated',\n",
              "                      random_state=1, splitter='best')"
            ]
          },
          "metadata": {
            "tags": []
          },
          "execution_count": 25
        }
      ]
    },
    {
      "cell_type": "markdown",
      "metadata": {
        "id": "bi3T_L-dM8le"
      },
      "source": [
        " Modelo de ajuste"
      ]
    },
    {
      "cell_type": "markdown",
      "metadata": {
        "id": "ytF2wyWdNHp5"
      },
      "source": [
        "Muitos modelos de aprendizado de máquina permitem alguma aleatoriedade no treinamento do modelo. Especificar um número para random_state garante que você obtenha os mesmos resultados em cada execução. Isso é considerado uma boa prática. Você usa qualquer número, e a qualidade do modelo não dependerá significativamente de exatamente o valor que você escolher.\n",
        "\n",
        "Agora temos um modelo ajustado que podemos usar para fazer previsões.\n",
        "\n",
        "Na prática, você desejará fazer previsões para novas casas chegando ao mercado, em vez das casas para as quais já temos preços. Mas faremos previsões para as primeiras linhas dos dados de treinamento para ver como a função de previsão funciona."
      ]
    },
    {
      "cell_type": "code",
      "metadata": {
        "id": "UsDlyDCZLQYA",
        "outputId": "74f969bf-38b3-45b4-feb6-91652c737896",
        "colab": {
          "base_uri": "https://localhost:8080/",
          "height": 187
        }
      },
      "source": [
        "print(\"Making predictions for the following 5 houses:\")\n",
        "print(x.head())\n",
        "print(\"The predictions are\")\n",
        "print(melbourne_model.predict(x.head(10)))"
      ],
      "execution_count": null,
      "outputs": [
        {
          "output_type": "stream",
          "text": [
            "Making predictions for the following 5 houses:\n",
            "   Rooms  Bathroom  Landsize  Lattitude  Longtitude\n",
            "1      2       1.0     156.0   -37.8079    144.9934\n",
            "2      3       2.0     134.0   -37.8093    144.9944\n",
            "4      4       1.0     120.0   -37.8072    144.9941\n",
            "6      3       2.0     245.0   -37.8024    144.9993\n",
            "7      2       1.0     256.0   -37.8060    144.9954\n",
            "The predictions are\n",
            "[1035000. 1465000. 1600000. 1876000. 1636000. 1097000. 1350000.  750000.\n",
            " 1310000. 1200000.]\n"
          ],
          "name": "stdout"
        }
      ]
    },
    {
      "cell_type": "code",
      "metadata": {
        "id": "5Yet9y6aLkS9"
      },
      "source": [
        "# COMO ACHAR A MEDIA DE ERRO DA NOSSA PREDIÇÃO"
      ],
      "execution_count": null,
      "outputs": []
    },
    {
      "cell_type": "markdown",
      "metadata": {
        "id": "zY9RzyHuQrQI"
      },
      "source": [
        "  Você construiu um modelo. Mas isso é bom?\n",
        "Nesta lição, você aprenderá a usar a validação de modelo para medir a qualidade de seu modelo. Medir a qualidade do modelo é a chave para melhorar iterativamente seus modelos.\n",
        "O que é validação de modelo\n",
        "  Você vai querer avaliar quase todos os modelos que construiu. Na maioria dos aplicativos (embora não em todos), a medida relevante da qualidade do modelo é a precisão preditiva. Em outras palavras, as previsões do modelo serão próximas do que realmente acontece.\n",
        "  Muitas pessoas cometem um grande erro ao medir a precisão preditiva. Eles fazem previsões com seus dados de treinamento e comparam essas previsões aos valores de destino nos dados de treinamento. Você verá o problema com essa abordagem e como resolvê-lo em um momento, mas vamos pensar sobre como faríamos isso primeiro.\n",
        "  Primeiro, você precisa resumir a qualidade do modelo de uma maneira compreensível. Se você comparar os valores residenciais previstos e reais para 10.000 casas, provavelmente encontrará uma mistura de previsões boas e ruins. Olhar em uma lista de 10.000 valores previstos e reais seria inútil. Precisamos resumir isso em uma única métrica.\n",
        "  Existem muitas métricas para resumir a qualidade do modelo, mas começaremos com uma chamada Erro Médio Absoluto (também chamado de MAE). Vamos decompor essa métrica começando com a última palavra, erro.\n",
        "O erro de previsão para cada casa é:\n",
        "erro = real previsto\n",
        "  Portanto, se uma casa custar $ 150.000 e você previu que custaria $ 100.000, o erro será $ 50.000.\n",
        "  Com a métrica MAE, pegamos o valor absoluto de cada erro. Isso converte cada erro em um número positivo. Em seguida, calculamos a média desses erros absolutos. Esta é a nossa medida de qualidade do modelo. Em português simples, pode ser dito como\n",
        "  Em média, nossas previsões estão erradas em cerca de X.\n",
        "Para calcular o MAE, primeiro precisamos de um modelo. Isso é construído em uma célula oculta abaixo, que você pode revisar clicando no botão de código.\n",
        "Assim que tivermos um modelo, veja como calculamos o erro médio absoluto:"
      ]
    },
    {
      "cell_type": "code",
      "metadata": {
        "id": "69E1G8kzQ1pk"
      },
      "source": [
        "from sklearn.metrics import mean_absolute_error"
      ],
      "execution_count": null,
      "outputs": []
    },
    {
      "cell_type": "code",
      "metadata": {
        "id": "G4Ofn5BFRHzD",
        "outputId": "99efa565-c594-4eef-b50a-6d5924ee9a3b",
        "colab": {
          "base_uri": "https://localhost:8080/",
          "height": 34
        }
      },
      "source": [
        "predicted_home_prices = melbourne_model.predict(x)\n",
        "mean_absolute_error(y, predicted_home_prices)"
      ],
      "execution_count": null,
      "outputs": [
        {
          "output_type": "execute_result",
          "data": {
            "text/plain": [
              "1115.7467183128902"
            ]
          },
          "metadata": {
            "tags": []
          },
          "execution_count": 35
        }
      ]
    },
    {
      "cell_type": "markdown",
      "metadata": {
        "id": "jyG6VQkpR4Dt"
      },
      "source": [
        "O problema com pontuações \"na amostra\"\n",
        "A medida que acabamos de calcular pode ser chamada de pontuação \"na amostra\". Usamos uma única \"amostra\" de casas tanto para construir o modelo quanto para avaliá-lo. Veja por que isso é ruim.\n",
        "\n",
        "Imagine que, no grande mercado imobiliário, a cor da porta não esteja relacionada ao preço da casa.\n",
        "\n",
        "No entanto, na amostra de dados que você usou para construir o modelo, todas as casas com portas verdes eram muito caras. O trabalho do modelo é encontrar padrões que prevejam os preços das residências, de modo que verá esse padrão e sempre fará previsões de preços altos para casas com portas verdes.\n",
        "\n",
        "Como esse padrão foi derivado dos dados de treinamento, o modelo parecerá preciso nos dados de treinamento.\n",
        "\n",
        "Mas se esse padrão não se mantiver quando o modelo vê novos dados, o modelo seria muito impreciso quando usado na prática.\n",
        "\n",
        "Uma vez que o valor prático dos modelos vem de fazer previsões sobre novos dados, medimos o desempenho em dados que não foram usados ​​para construir o modelo. A maneira mais direta de fazer isso é excluir alguns dados do processo de construção do modelo e, em seguida, usá-los para testar a precisão do modelo em dados que ele nunca viu antes. Esses dados são chamados de dados de validação.\n",
        "\n",
        "Codificando\n",
        "A biblioteca scikit-learn tem uma função train_test_split para dividir os dados em duas partes. Usaremos alguns desses dados como dados de treinamento para ajustar o modelo e usaremos os outros dados como dados de validação para calcular mean_absolute_error.\n",
        "\n",
        "Aqui está o código:"
      ]
    },
    {
      "cell_type": "code",
      "metadata": {
        "id": "vrrbX1AlRKRa"
      },
      "source": [
        "from sklearn.model_selection import train_test_split"
      ],
      "execution_count": null,
      "outputs": []
    },
    {
      "cell_type": "markdown",
      "metadata": {
        "id": "3QHOXKGcSIMx"
      },
      "source": [
        "dividir os dados em dados de treinamento e validação, para recursos e destino\n",
        " A divisão é baseada em um gerador de números aleatórios. Fornecendo um valor numérico para\n",
        "o argumento random_state garante que obteremos a mesma divisão toda vez que\n",
        " execute este script."
      ]
    },
    {
      "cell_type": "code",
      "metadata": {
        "id": "f5aPFT2jSA7D"
      },
      "source": [
        "train_x, val_x, train_y, val_y = train_test_split(x, y, random_state = 0)"
      ],
      "execution_count": null,
      "outputs": []
    },
    {
      "cell_type": "markdown",
      "metadata": {
        "id": "y86uGZxxSSNX"
      },
      "source": [
        "definição de modelo"
      ]
    },
    {
      "cell_type": "code",
      "metadata": {
        "id": "vPYjD3A6SMz-"
      },
      "source": [
        "melbourne_model = DecisionTreeRegressor()"
      ],
      "execution_count": null,
      "outputs": []
    },
    {
      "cell_type": "markdown",
      "metadata": {
        "id": "Kgy1qGm0SYVm"
      },
      "source": [
        "fit model"
      ]
    },
    {
      "cell_type": "code",
      "metadata": {
        "id": "5lF7ECF_SUyc",
        "outputId": "ebc827dc-175a-4e0a-975a-9a65106007f9",
        "colab": {
          "base_uri": "https://localhost:8080/",
          "height": 119
        }
      },
      "source": [
        "melbourne_model.fit(train_x, train_y)"
      ],
      "execution_count": null,
      "outputs": [
        {
          "output_type": "execute_result",
          "data": {
            "text/plain": [
              "DecisionTreeRegressor(ccp_alpha=0.0, criterion='mse', max_depth=None,\n",
              "                      max_features=None, max_leaf_nodes=None,\n",
              "                      min_impurity_decrease=0.0, min_impurity_split=None,\n",
              "                      min_samples_leaf=1, min_samples_split=2,\n",
              "                      min_weight_fraction_leaf=0.0, presort='deprecated',\n",
              "                      random_state=None, splitter='best')"
            ]
          },
          "metadata": {
            "tags": []
          },
          "execution_count": 41
        }
      ]
    },
    {
      "cell_type": "markdown",
      "metadata": {
        "id": "yQvZenkrSfVz"
      },
      "source": [
        "obter preços previstos em dados de validação"
      ]
    },
    {
      "cell_type": "code",
      "metadata": {
        "id": "RdwZkpVxSbEI",
        "outputId": "47bc6ad3-8aac-479c-fad5-865f4204fc62",
        "colab": {
          "base_uri": "https://localhost:8080/",
          "height": 34
        }
      },
      "source": [
        "val_predictions = melbourne_model.predict(val_x)\n",
        "print(mean_absolute_error(val_y, val_predictions))"
      ],
      "execution_count": null,
      "outputs": [
        {
          "output_type": "stream",
          "text": [
            "272088.32063697005\n"
          ],
          "name": "stdout"
        }
      ]
    },
    {
      "cell_type": "markdown",
      "metadata": {
        "id": "jHMsCpTJS0sa"
      },
      "source": [
        "Seu erro absoluto médio para os dados da amostra foi de cerca de 1115 dólares. Fora da amostra, é mais de 272.000 dólares.\n",
        "\n",
        "Esta é a diferença entre um modelo que é quase exatamente correto e um que é inutilizável para a maioria dos propósitos práticos. Como ponto de referência, o valor médio da casa nos dados de validação é de 1,1 milhão de dólares. Portanto, o erro nos novos dados é cerca de um quarto do valor médio da casa.\n",
        "\n",
        "Existem muitas maneiras de melhorar este modelo, como experimentar para encontrar recursos melhores ou diferentes tipos de modelo."
      ]
    },
    {
      "cell_type": "code",
      "metadata": {
        "id": "_LjNxOXiSiQ0"
      },
      "source": [
        ""
      ],
      "execution_count": null,
      "outputs": []
    },
    {
      "cell_type": "markdown",
      "metadata": {
        "id": "3c3b6E3WdoqV"
      },
      "source": [
        "#FLORESTS ALEATORIAS"
      ]
    },
    {
      "cell_type": "markdown",
      "metadata": {
        "id": "DScNhxrpeCOi"
      },
      "source": [
        "ntrodução\n",
        "As árvores de decisão deixam você com uma decisão difícil. Uma árvore profunda com muitas folhas se ajustará demais porque cada previsão vem de dados históricos apenas das poucas casas em sua folha. Mas uma árvore rasa com poucas folhas terá um desempenho ruim porque não consegue capturar tantas distinções nos dados brutos.\n",
        "\n",
        "Mesmo as técnicas de modelagem mais sofisticadas de hoje enfrentam essa tensão entre underfitting e overfitting. Porém, muitos modelos têm ideias inteligentes que podem levar a um melhor desempenho. Veremos a floresta aleatória como exemplo.\n",
        "\n",
        "A floresta aleatória usa muitas árvores e faz uma previsão calculando a média das previsões de cada árvore componente. Geralmente tem uma precisão preditiva muito melhor do que uma única árvore de decisão e funciona bem com os parâmetros padrão. Se você continuar modelando, poderá aprender mais modelos com desempenho ainda melhor, mas muitos deles são sensíveis à obtenção dos parâmetros corretos.\n",
        "\n",
        "Exemplo\n",
        "Você já viu o código para carregar os dados algumas vezes. No final do carregamento de dados, temos as seguintes variáveis:\n",
        "\n",
        "train_X\n",
        "val_X\n",
        "train_y\n",
        "val_y\n",
        "Construímos um modelo de floresta aleatório de forma semelhante a como construímos uma árvore de decisão no scikit-learn - desta vez usando a classe RandomForestRegressor em vez de DecisionTreeRegressor.\n"
      ]
    },
    {
      "cell_type": "code",
      "metadata": {
        "id": "imC33IqpUIsq",
        "outputId": "282c33bc-3bf2-44ae-98de-e0cb823efcb4",
        "colab": {
          "base_uri": "https://localhost:8080/",
          "height": 34
        }
      },
      "source": [
        "from sklearn.ensemble import RandomForestRegressor\n",
        "from sklearn.metrics import mean_absolute_error\n",
        "\n",
        "forest_model = RandomForestRegressor(random_state=1)\n",
        "forest_model.fit(train_x, train_y)\n",
        "melb_preds = forest_model.predict(val_x)\n",
        "print(mean_absolute_error(val_y, melb_preds))"
      ],
      "execution_count": null,
      "outputs": [
        {
          "output_type": "stream",
          "text": [
            "207190.6873773146\n"
          ],
          "name": "stdout"
        }
      ]
    },
    {
      "cell_type": "code",
      "metadata": {
        "id": "HF_IsG7OeHdN"
      },
      "source": [
        "# Provavelmente há espaço para melhorias adicionais, mas esta é uma grande melhoria em r\n",
        "#elação ao erro da melhor árvore de decisão de 207.000. Existem parâmetros que permitem alterar o \n",
        "##desempenho da Floresta Aleatória da mesma forma que alteramos a profundidade máxima da árvore de decisão única. Mas uma das melhores características dos modelos Random Forest é \n",
        "#que eles geralmente funcionam razoavelmente, mesmo sem esse ajuste."
      ],
      "execution_count": null,
      "outputs": []
    },
    {
      "cell_type": "code",
      "metadata": {
        "id": "T-ZyUi9ofH70"
      },
      "source": [
        ""
      ],
      "execution_count": null,
      "outputs": []
    }
  ]
}